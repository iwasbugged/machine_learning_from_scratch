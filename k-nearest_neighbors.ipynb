{
 "metadata": {
  "language_info": {
   "codemirror_mode": {
    "name": "ipython",
    "version": 3
   },
   "file_extension": ".py",
   "mimetype": "text/x-python",
   "name": "python",
   "nbconvert_exporter": "python",
   "pygments_lexer": "ipython3",
   "version": "3.7.7-final"
  },
  "orig_nbformat": 2,
  "kernelspec": {
   "name": "python3",
   "display_name": "Python 3"
  }
 },
 "nbformat": 4,
 "nbformat_minor": 2,
 "cells": [
  {
   "cell_type": "markdown",
   "metadata": {},
   "source": [
    "Nearest neighbours is one of the simplest predictive models there is. It makes no mathematical assumptions, and it doesn't required any sort of heavy machinery. The only thing it requires are:\n",
    "- Some notion of distance\n",
    "- An assumption that points that are close to one another are similar\n",
    "\n",
    "In the general situation, we have some data points and we have a corresponding set of labels. The labels could be **True** and **False  **, indicating whether each input satisfies some conditions like \"Is spam?\" or \"is poisonous?\" or \"would be enjoyable to watch?\" they could be categories, like movie ratings (G, PG, PG-13, R, NC-17). Or they could be favorite programming languages.\n",
    " In our case, the data points will be vectors, which means that we can use the distance function.\n",
    " Let's say we've picked a number **k** like 3 or 5.  Then when we want to classify some new data point, we find the **k** nearest labeles points and let them vote on the new output.\n",
    "\n",
    " To do this, we'll need a function that counts votes. One possibility is:"
   ]
  },
  {
   "cell_type": "code",
   "execution_count": 3,
   "metadata": {
    "tags": []
   },
   "outputs": [
    {
     "output_type": "stream",
     "name": "stdout",
     "text": "1\n1\n"
    }
   ],
   "source": [
    "from collections import Counter\n",
    "def raw_majority_vote(labels):\n",
    "    votes = Counter(labels)\n",
    "    winner, _ =votes.most_common(1)[0]\n",
    "    return winner\n",
    "\n",
    "print(raw_majority_vote([1,2,3,4,5,6,8,4,1,2,1,2,3]))\n",
    "print(raw_majority_vote([1,2,1,2]))"
   ]
  },
  {
   "cell_type": "markdown",
   "metadata": {},
   "source": [
    "But this doesn't do anything intelligent with ties. For example , imagine we're rating movies and the five nearest movies are rated G, G, PG, PG and R. Then G hase two votes and PG also has two votes. In that case, we have several options:\n",
    "- Pick one of the winners at random.\n",
    "- Weight the votes by distance and pick the weighted winner.\n",
    "- Reduce **k** until we find a unique winner.\n",
    "\n",
    "We'll implement the third:"
   ]
  },
  {
   "cell_type": "code",
   "execution_count": 4,
   "metadata": {
    "tags": []
   },
   "outputs": [
    {
     "output_type": "stream",
     "name": "stdout",
     "text": "1\n"
    }
   ],
   "source": [
    "def majority_vote(labels):\n",
    "    ''' assumes that labels are ordered from nearest to farthest'''\n",
    "    vote_couts = Counter(labels)\n",
    "    winner , winner_count = vote_couts.most_common(1)[0]\n",
    "    num_winners = len([count for count in vote_couts.values() if count == winner_count])\n",
    "\n",
    "    if num_winners == 1:\n",
    "        return winner # Unique winner, so return it\n",
    "    else:\n",
    "        return majority_vote(labels[:-1])\n",
    "        # try again without the farthest\n",
    "\n",
    "print(majority_vote([1,2,1,2,3,4,5,6,7,8,8]))"
   ]
  },
  {
   "cell_type": "markdown",
   "metadata": {},
   "source": [
    "This approach is sure to work eventually, since in the worst case we go all the way down to just one label, at which point that one label wins.\n",
    "With this function it's easy to create a classifier:"
   ]
  },
  {
   "cell_type": "code",
   "execution_count": 5,
   "metadata": {},
   "outputs": [],
   "source": [
    "def vector_add(v,w):\n",
    "    ''' add correspnding elements'''\n",
    "    return [v_i + w_i for v_i, w_i in zip(v, w)]\n",
    "\n",
    "def vector_subtract(v, w):\n",
    "    ''' subtracts corresponding element'''\n",
    "    return [v_i - w_i for v_i, w_i in zip(v, w) ]\n",
    "\n",
    "def vector_sum(vectors):\n",
    "    '''sum all corresponding elements'''\n",
    "    result = vectors[0]               # Start with the first vector\n",
    "    for vector in vectors[1:]:       # then loop over the others\n",
    "        result = vector_add(result, vector) # and add them to the result\n",
    "    return result\n",
    "\n",
    "def scalar_multiply(c,v):\n",
    "    ''' c is a number, v is a vector'''\n",
    "    return [c * v_i for v_i in v]\n",
    "\n",
    "def vector_mean(vectors):\n",
    "    '''compute the vector whose ith element is the mean of the ith eleents of the input vectors'''\n",
    "    n = len(vectors)\n",
    "    return scalar_multiply(1/n , vector_sum(vectors))\n",
    "\n",
    "def dot( v, w):\n",
    "    ''' v_1 * w_1 + .....+ v_n * w_n'''\n",
    "    return sum(v_i*w_i for v_i, w_i in zip(v,w))\n",
    "\n",
    "def sum_of_squares(v):\n",
    "    ''' v_1 * v_1 + .....+ v_n * v_n'''\n",
    "    return dot(v,v)\n",
    "\n",
    "import math\n",
    "\n",
    "def magnitude(v):\n",
    "    return math.sqrt(sum_of_squares(v)) # math.sqrt is square root function\n",
    "\n",
    "def squared_distance(v,w):\n",
    "    '''(v_1 - w_1)**2 + ...... + (v_n - w_n)**2'''\n",
    "    return sum_of_squares(vector_subtract(v,w))\n",
    "\n",
    "def distance( v,w):\n",
    "    return math.sqrt(squared_distance(v,w))\n"
   ]
  },
  {
   "cell_type": "code",
   "execution_count": 12,
   "metadata": {},
   "outputs": [],
   "source": [
    "def knn_classify(k , labeld_points, new_points):\n",
    "    ''' each labeled point should be a pair (point, label)'''\n",
    "    # order the labeled points from nearest to farthest\n",
    "    by_distance = sorted(labeled_points, key = lambda point, _:distance(point, new_points))\n",
    "\n",
    "    # Find the labls for the k closest\n",
    "    k_nearest_labels = [label for _, label in by_distance[:k]]\n",
    "\n",
    "    # and let them vote\n",
    "    return majority_vote(k_nearest_labels)"
   ]
  },
  {
   "cell_type": "code",
   "execution_count": null,
   "metadata": {},
   "outputs": [],
   "source": []
  }
 ]
}