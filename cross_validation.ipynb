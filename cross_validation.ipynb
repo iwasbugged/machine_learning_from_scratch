{
 "metadata": {
  "language_info": {
   "codemirror_mode": {
    "name": "ipython",
    "version": 3
   },
   "file_extension": ".py",
   "mimetype": "text/x-python",
   "name": "python",
   "nbconvert_exporter": "python",
   "pygments_lexer": "ipython3",
   "version": "3.7.7-final"
  },
  "orig_nbformat": 2,
  "kernelspec": {
   "name": "Python 3.7.7 64-bit ('base': conda)",
   "display_name": "Python 3.7.7 64-bit ('base': conda)",
   "metadata": {
    "interpreter": {
     "hash": "3c8c3a880c14b61cd710572e2ac6298335c33509b1f7d3900bc107f98e9cc647"
    }
   }
  }
 },
 "nbformat": 4,
 "nbformat_minor": 2,
 "cells": [
  {
   "source": [
    "**Use of Stratifiedkfold cross-validation in Regression**\n",
    "\n",
    "we can't use Stratifiedkfold directly , but there are ways t change the problem a bit so that we can use Stratified k-fold for Regression problems . Mostly, simple k-fold cross-validation works for any regression problem .  However, if we see that the distribution of targets is not consistent , we can use Stratified k-fold.\n",
    "\n",
    "To use Stratified K-fold for a regression problem , we have first to divide the target into bins , and then can use Stratified k-fold in the same way as for classification.  There are several choices for selecting the appropriate number of bins . If we have a lot of samples (> 10k > 100k), then we don't need to care about the number of bins. Just divide the data into 10  or  20 bins . If we do not have a lot of samples , we can use a simple rule like **Sturge's Rule** to calculate the appropriate number of bins\n",
    "- Sturge's Rule:\n",
    "$ Number of Bins = 1 + log_2(N)$\n",
    "\n",
    "Where N is the number of samples in our dataset"
   ],
   "cell_type": "markdown",
   "metadata": {}
  },
  {
   "cell_type": "code",
   "execution_count": 1,
   "metadata": {},
   "outputs": [],
   "source": [
    "import numpy as np \n",
    "import pandas as pd \n",
    "from sklearn import datasets\n",
    "from sklearn import model_selection\n",
    "\n",
    "def create_folds (data):\n",
    "    # we create a new column called kfold ad fill it with -1\n",
    "    data['kfold'] = -1\n",
    "\n",
    "    # the next step id to randomize the rows of the data\n",
    "    data = data.sample(frac = 1).reset_index(drop =True)\n",
    "\n",
    "    # calculate the number of bins bu sturge's rule\n",
    "    # we take floor of the value , one can also just round it\n",
    "    num_bins = np.floor( 1 + np.log2(len(data)))\n",
    "\n",
    "    # bin target\n",
    "    data.loc[ : , 'bins'] = pd.cut(\n",
    "        data['target'] ,  bins=num_bins , labels= False\n",
    "    )\n",
    "\n",
    "    # Initiate the kfold column\n",
    "    kf  = model_selection.StratifiedKFold(n_splits= 5 )\n",
    "\n",
    "    # fill the new kfold column\n",
    "    #note that instead of target we use bins \n",
    "    for f , (t_ , v_ ) in enumerate(kf.split(X = data , y = data.bins.values)):\n",
    "        data.loc[v_ , 'kfold'] = f\n",
    "\n",
    "    #drop the bins column\n",
    "    data = data.drop('bins' , axis = 1)\n",
    "    # return dataframe\n",
    "    return data"
   ]
  },
  {
   "cell_type": "code",
   "execution_count": 5,
   "metadata": {},
   "outputs": [],
   "source": [
    "if __name__ == '__main__':\n",
    "    # we create a sample dataset with 15000 samples and 100 features and 1 target\n",
    "    X, y = datasets.make_regression(\n",
    "        n_samples= 15000 , n_features= 100 , n_targets= 1\n",
    "    )\n",
    "    # create a dataframe out of our numpy arrays\n",
    "    df = pd.DataFrame(\n",
    "        X,\n",
    "        columns = [f\"f_{i}\" for i in range(X.shape[1])]\n",
    "    )\n",
    "    df.loc[: , 'target'] = y\n",
    "\n",
    "    # create fold\n",
    "    df = create_folds(df)"
   ]
  },
  {
   "cell_type": "code",
   "execution_count": 6,
   "metadata": {},
   "outputs": [
    {
     "output_type": "execute_result",
     "data": {
      "text/plain": "        f_0       f_1       f_2       f_3       f_4       f_5       f_6  \\\n0 -1.072049  0.048874 -1.776504  0.812529  0.039193 -0.008777  0.111748   \n1  0.098822  0.466285 -0.301996  0.128372  1.646033 -1.352607  1.794482   \n2  0.866245  0.584522 -0.595651 -2.745084 -1.614910  0.840648  0.991548   \n3 -0.467379 -0.927148 -0.056269 -0.940335 -1.053923 -0.942803 -1.689408   \n4  0.172043 -0.917780  0.936267  0.902319 -2.426538 -0.021678  0.003368   \n\n        f_7       f_8       f_9  ...      f_92      f_93      f_94      f_95  \\\n0 -0.685321 -0.794618 -0.219846  ...  1.016304  0.913315 -1.334337 -0.590968   \n1 -1.431186 -0.548489  0.212283  ... -0.679937  0.196082 -0.690067 -1.590908   \n2  0.296775  0.015612 -0.555631  ... -0.986704  0.862823  0.776425 -0.869599   \n3  0.791748  1.574628  0.403512  ... -0.441902 -0.148544 -0.026214  1.221280   \n4  0.320900 -2.539603  0.165963  ... -0.273824 -0.721080  0.319150 -0.296552   \n\n       f_96      f_97      f_98      f_99      target  kfold  \n0  0.687942  0.747553 -0.382850  0.543663 -252.135623      0  \n1  1.670808 -1.390162 -0.969001  1.113607   -4.731363      0  \n2 -1.489392  0.216389  1.293981 -0.044173 -123.131567      0  \n3 -0.204927  0.645620  1.122023  0.637390 -172.841176      0  \n4  0.586121 -1.636423 -0.757833  0.244904 -259.690589      0  \n\n[5 rows x 102 columns]",
      "text/html": "<div>\n<style scoped>\n    .dataframe tbody tr th:only-of-type {\n        vertical-align: middle;\n    }\n\n    .dataframe tbody tr th {\n        vertical-align: top;\n    }\n\n    .dataframe thead th {\n        text-align: right;\n    }\n</style>\n<table border=\"1\" class=\"dataframe\">\n  <thead>\n    <tr style=\"text-align: right;\">\n      <th></th>\n      <th>f_0</th>\n      <th>f_1</th>\n      <th>f_2</th>\n      <th>f_3</th>\n      <th>f_4</th>\n      <th>f_5</th>\n      <th>f_6</th>\n      <th>f_7</th>\n      <th>f_8</th>\n      <th>f_9</th>\n      <th>...</th>\n      <th>f_92</th>\n      <th>f_93</th>\n      <th>f_94</th>\n      <th>f_95</th>\n      <th>f_96</th>\n      <th>f_97</th>\n      <th>f_98</th>\n      <th>f_99</th>\n      <th>target</th>\n      <th>kfold</th>\n    </tr>\n  </thead>\n  <tbody>\n    <tr>\n      <th>0</th>\n      <td>-1.072049</td>\n      <td>0.048874</td>\n      <td>-1.776504</td>\n      <td>0.812529</td>\n      <td>0.039193</td>\n      <td>-0.008777</td>\n      <td>0.111748</td>\n      <td>-0.685321</td>\n      <td>-0.794618</td>\n      <td>-0.219846</td>\n      <td>...</td>\n      <td>1.016304</td>\n      <td>0.913315</td>\n      <td>-1.334337</td>\n      <td>-0.590968</td>\n      <td>0.687942</td>\n      <td>0.747553</td>\n      <td>-0.382850</td>\n      <td>0.543663</td>\n      <td>-252.135623</td>\n      <td>0</td>\n    </tr>\n    <tr>\n      <th>1</th>\n      <td>0.098822</td>\n      <td>0.466285</td>\n      <td>-0.301996</td>\n      <td>0.128372</td>\n      <td>1.646033</td>\n      <td>-1.352607</td>\n      <td>1.794482</td>\n      <td>-1.431186</td>\n      <td>-0.548489</td>\n      <td>0.212283</td>\n      <td>...</td>\n      <td>-0.679937</td>\n      <td>0.196082</td>\n      <td>-0.690067</td>\n      <td>-1.590908</td>\n      <td>1.670808</td>\n      <td>-1.390162</td>\n      <td>-0.969001</td>\n      <td>1.113607</td>\n      <td>-4.731363</td>\n      <td>0</td>\n    </tr>\n    <tr>\n      <th>2</th>\n      <td>0.866245</td>\n      <td>0.584522</td>\n      <td>-0.595651</td>\n      <td>-2.745084</td>\n      <td>-1.614910</td>\n      <td>0.840648</td>\n      <td>0.991548</td>\n      <td>0.296775</td>\n      <td>0.015612</td>\n      <td>-0.555631</td>\n      <td>...</td>\n      <td>-0.986704</td>\n      <td>0.862823</td>\n      <td>0.776425</td>\n      <td>-0.869599</td>\n      <td>-1.489392</td>\n      <td>0.216389</td>\n      <td>1.293981</td>\n      <td>-0.044173</td>\n      <td>-123.131567</td>\n      <td>0</td>\n    </tr>\n    <tr>\n      <th>3</th>\n      <td>-0.467379</td>\n      <td>-0.927148</td>\n      <td>-0.056269</td>\n      <td>-0.940335</td>\n      <td>-1.053923</td>\n      <td>-0.942803</td>\n      <td>-1.689408</td>\n      <td>0.791748</td>\n      <td>1.574628</td>\n      <td>0.403512</td>\n      <td>...</td>\n      <td>-0.441902</td>\n      <td>-0.148544</td>\n      <td>-0.026214</td>\n      <td>1.221280</td>\n      <td>-0.204927</td>\n      <td>0.645620</td>\n      <td>1.122023</td>\n      <td>0.637390</td>\n      <td>-172.841176</td>\n      <td>0</td>\n    </tr>\n    <tr>\n      <th>4</th>\n      <td>0.172043</td>\n      <td>-0.917780</td>\n      <td>0.936267</td>\n      <td>0.902319</td>\n      <td>-2.426538</td>\n      <td>-0.021678</td>\n      <td>0.003368</td>\n      <td>0.320900</td>\n      <td>-2.539603</td>\n      <td>0.165963</td>\n      <td>...</td>\n      <td>-0.273824</td>\n      <td>-0.721080</td>\n      <td>0.319150</td>\n      <td>-0.296552</td>\n      <td>0.586121</td>\n      <td>-1.636423</td>\n      <td>-0.757833</td>\n      <td>0.244904</td>\n      <td>-259.690589</td>\n      <td>0</td>\n    </tr>\n  </tbody>\n</table>\n<p>5 rows × 102 columns</p>\n</div>"
     },
     "metadata": {},
     "execution_count": 6
    }
   ],
   "source": [
    "df.head()"
   ]
  },
  {
   "cell_type": "code",
   "execution_count": null,
   "metadata": {},
   "outputs": [],
   "source": []
  }
 ]
}